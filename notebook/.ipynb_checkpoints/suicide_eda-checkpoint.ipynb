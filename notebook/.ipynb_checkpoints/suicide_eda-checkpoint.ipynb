{
 "cells": [
  {
   "cell_type": "markdown",
   "id": "37fbb1aa-be4f-461c-b5cb-4e6e91e73bea",
   "metadata": {},
   "source": [
    "## 1. Load and Inspect the Data"
   ]
  },
  {
   "cell_type": "code",
   "execution_count": null,
   "id": "2f21dd0f-99fa-47a6-8106-5c9ad7ac83db",
   "metadata": {},
   "outputs": [],
   "source": [
    "import pandas as pd\n",
    "\n",
    "# Load the dataset\n",
    "suicide_df = pd.read_csv(r\"C:\\Users\\HP\\global_suicide_analysis\\data\\master.csv\")\n",
    "suicide_df.head()"
   ]
  },
  {
   "cell_type": "code",
   "execution_count": null,
   "id": "13ae1eb1-ad4f-4fe9-831d-f5171840dceb",
   "metadata": {},
   "outputs": [],
   "source": [
    "# Shape of Data Set\n",
    "print(f\"Rows: {suicide_df.shape[0]}, Columns: {suicide_df.shape[1]}\")\n",
    "\n",
    "# Data info\n",
    "suicide_df.info()\n",
    "\n",
    "# Basic statistics for numeric columns\n",
    "suicide_df.describe()"
   ]
  },
  {
   "cell_type": "code",
   "execution_count": null,
   "id": "1feed593-33cd-45a4-9040-15a307873e90",
   "metadata": {},
   "outputs": [],
   "source": [
    "# Check for null values in each column\n",
    "suicide_df.isnull().sum()"
   ]
  },
  {
   "cell_type": "code",
   "execution_count": null,
   "id": "98edeac6-60a1-4fc9-bf68-3d45b58be6f0",
   "metadata": {},
   "outputs": [],
   "source": [
    "# Preview unique countries\n",
    "print(\"Countries:\", suicide_df['country'].nunique())\n",
    "print(suicide_df['country'].unique()[:10])  # First 10 countries\n",
    "\n",
    "# Preview years\n",
    "print(\"Years:\", suicide_df['year'].unique())\n",
    "\n",
    "# Preview genders\n",
    "print(\"Sex:\", suicide_df['sex'].unique())\n",
    "\n",
    "# Preview age groups\n",
    "print(\"Age groups:\", suicide_df['age'].unique())\n"
   ]
  },
  {
   "cell_type": "markdown",
   "id": "dab69a19-07a9-485b-954a-a70382e0246d",
   "metadata": {},
   "source": [
    "### Data Cleaning\n",
    "\n",
    "Handle missing/nulls, Standardize column names, Convert data types (e.g., year to datetime if needed)\n"
   ]
  },
  {
   "cell_type": "code",
   "execution_count": null,
   "id": "4acd7677-a3c7-4edb-a2ec-89aaddf0d5fd",
   "metadata": {},
   "outputs": [],
   "source": [
    "# Check for incomplete or null values in each column\n",
    "suicide_df.isnull().sum()"
   ]
  },
  {
   "cell_type": "code",
   "execution_count": null,
   "id": "4558bb19-8c7c-439c-9cfe-42bde6a69f2d",
   "metadata": {},
   "outputs": [],
   "source": [
    "# Clean column names first\n",
    "suicide_df.columns = (\n",
    "suicide_df.columns\n",
    ".str.strip()\n",
    ".str.lower()\n",
    ".str.replace(' ', '_')\n",
    ".str.replace('/', '_')\n",
    ".str.replace('(', '')\n",
    ".str.replace(')', '')\n",
    ")\n",
    "\n",
    "# Now check the new column names\n",
    "print(suicide_df.columns.tolist())\n"
   ]
  },
  {
   "cell_type": "code",
   "execution_count": null,
   "id": "9d57081a-f533-4783-ae0e-8a04cea84f76",
   "metadata": {},
   "outputs": [],
   "source": [
    "# Now these names will match\n",
    "suicide_df = suicide_df.drop(columns=['country-year', 'hdi_for_year'])"
   ]
  },
  {
   "cell_type": "code",
   "execution_count": null,
   "id": "e09a2628-19cc-4c0f-9644-71a073bba60f",
   "metadata": {},
   "outputs": [],
   "source": [
    "suicide_df"
   ]
  },
  {
   "cell_type": "code",
   "execution_count": null,
   "id": "66cacca3-1c2b-4441-80e5-dbf98a94b88c",
   "metadata": {},
   "outputs": [],
   "source": [
    "# Ensure year is treated as an integer\n",
    "suicide_df['year'] = suicide_df['year'].astype(int)\n",
    "\n",
    "# Optionally, convert to datetime (if using for time-series plots)\n",
    "# suicide_df['year'] = pd.to_datetime(suicide_df['year'], format='%Y') \n",
    "\n",
    "# Clean GDP columns (remove commas, convert to int)\n",
    "suicide_df['gdp_for_year_$'] = suicide_df['gdp_for_year_$'].str.replace(',', '').astype(int)\n",
    "suicide_df['gdp_per_capita_$'] = suicide_df['gdp_per_capita_$'].astype(int)"
   ]
  },
  {
   "cell_type": "code",
   "execution_count": null,
   "id": "7988fd61-e0e6-4582-8647-c7f47ec6218f",
   "metadata": {},
   "outputs": [],
   "source": [
    "suicide_df"
   ]
  },
  {
   "cell_type": "markdown",
   "id": "b0fbc9be-f6bd-4c4c-ba0d-8a27e98508b9",
   "metadata": {},
   "source": [
    "This line below creates a new column in your DataFrame called suicide_rate. It calculates the number of suicides per 100,000 people for each row (which represents a specific country, year, gender, and age group)."
   ]
  },
  {
   "cell_type": "code",
   "execution_count": null,
   "id": "1ed6213d-5f61-4768-be81-4e820d08dc1c",
   "metadata": {},
   "outputs": [],
   "source": [
    "suicide_df['suicide_rate'] = (suicide_df['suicides_no'] / suicide_df['population']) * 100000\n"
   ]
  },
  {
   "cell_type": "code",
   "execution_count": null,
   "id": "0ba22f1c-94ff-4de2-86ce-2caba6143743",
   "metadata": {},
   "outputs": [],
   "source": [
    "suicide_df"
   ]
  },
  {
   "cell_type": "markdown",
   "id": "9699dff0-111d-4c91-940f-ffbe2976d88f",
   "metadata": {},
   "source": [
    " ### Exploratory Visualizatiions"
   ]
  },
  {
   "cell_type": "code",
   "execution_count": null,
   "id": "77bddb0d-3f46-469e-96aa-113eb0458902",
   "metadata": {},
   "outputs": [],
   "source": [
    "import matplotlib.pyplot as plt\n",
    "import seaborn as sns\n",
    "\n",
    "sns.set(style = 'whitegrid')"
   ]
  },
  {
   "cell_type": "markdown",
   "id": "979b11c9-0b6b-454d-ba50-4339ef21d75e",
   "metadata": {},
   "source": [
    "#### Global Suicide Rate Over Time (1985–2016)"
   ]
  },
  {
   "cell_type": "code",
   "execution_count": null,
   "id": "c2573413-3322-49dd-b330-306c0d82baf5",
   "metadata": {},
   "outputs": [],
   "source": [
    "# Group and calculate suicide rate per year\n",
    "yearly_data = suicide_df.groupby('year')[['suicides_no', 'population']].sum().reset_index()\n",
    "yearly_data['suicide_rate'] = (yearly_data['suicides_no'] / yearly_data['population']) * 100000\n",
    "\n",
    "# Plot\n",
    "plt.figure(figsize=(12, 6))\n",
    "sns.lineplot(data=yearly_data, x='year', y='suicide_rate', marker='o')\n",
    "plt.title('Global Suicide Rate Over Time (per 100,000 people)')\n",
    "plt.xlabel('Year')\n",
    "plt.ylabel('Suicide Rate')\n",
    "plt.tight_layout()\n",
    "plt.show()"
   ]
  },
  {
   "cell_type": "markdown",
   "id": "82d2e27c-c2d8-4099-967d-5ec1a0b0b00c",
   "metadata": {},
   "source": [
    "The global suicide rate showed a gradual increase from the late 1980s, peaked around the mid 1990s.The global suicide rate has generally shown a decreasing trend from 1995 up to 2016. This could correlate with global economic downturns, increased reporting, or awareness"
   ]
  },
  {
   "cell_type": "markdown",
   "id": "8795a4a5-707b-4cb0-bddc-82d5ee19e894",
   "metadata": {},
   "source": [
    "#### 3.2 Suicide Rate by Gender"
   ]
  },
  {
   "cell_type": "code",
   "execution_count": null,
   "id": "7c2d79a2-3d51-4735-9ae6-5462ad82ddb6",
   "metadata": {},
   "outputs": [],
   "source": [
    "# Group by year and sex\n",
    "gender_data = suicide_df.groupby(['year', 'sex'])[['suicides_no', 'population']].sum().reset_index()\n",
    "gender_data['suicide_rate'] = (gender_data['suicides_no'] / gender_data['population']) * 100000\n",
    "\n",
    "# Plot\n",
    "plt.figure(figsize=(12, 6))\n",
    "sns.lineplot(data=gender_data, x='year', y='suicide_rate', hue='sex', marker='o')\n",
    "plt.title('Suicide Rate by Gender Over Time')\n",
    "plt.xlabel('Year')\n",
    "plt.ylabel('Suicide Rate')\n",
    "plt.legend(title='Gender')\n",
    "plt.tight_layout()\n",
    "plt.show()\n"
   ]
  },
  {
   "cell_type": "markdown",
   "id": "5c68efd0-74b2-448d-8066-915d6fedf6a8",
   "metadata": {},
   "source": [
    "Suicide rates were consistently higher for males across all years. In many countries, male suicide rates are 3–4 times higher than females, possibly due to social expectations, underdiagnosed mental health issues, or reluctance to seek help."
   ]
  },
  {
   "cell_type": "markdown",
   "id": "b427de50-2bc4-4c89-8059-997fafad6f79",
   "metadata": {},
   "source": [
    "#### Average Suicide Rate by Gender"
   ]
  },
  {
   "cell_type": "code",
   "execution_count": null,
   "id": "8a6309d5-7ab3-4e9b-89e0-eb6e66a0c78c",
   "metadata": {},
   "outputs": [],
   "source": [
    "# Group by gender (sex)\n",
    "gender_data = suicide_df.groupby('sex')[['suicides_no', 'population']].sum().reset_index()\n",
    "\n",
    "# Calculate suicide rate per 100k\n",
    "gender_data['suicide_rate'] = (gender_data['suicides_no'] / gender_data['population']) * 100000\n",
    "\n",
    "plt.figure(figsize=(8, 5))\n",
    "sns.barplot(data=gender_data, x='sex', y='suicide_rate', hue = 'sex', palette='Set2')\n",
    "\n",
    "plt.title('Average Global Suicide Rate by Gender (1985–2016)')\n",
    "plt.xlabel('Gender')\n",
    "plt.ylabel('Suicide Rate per 100,000')\n",
    "plt.tight_layout()\n",
    "plt.show()"
   ]
  },
  {
   "cell_type": "markdown",
   "id": "80ba436c-0281-48a7-a4c9-15fdf092dc74",
   "metadata": {},
   "source": [
    "The suicide rate for males is significantly higher than for females, often 2x–4x depending on the country. This gender gap is consistent globally and may relate to social, psychological, and cultural factors."
   ]
  },
  {
   "cell_type": "markdown",
   "id": "d752ee79-3a35-44a8-8eef-50cb7e20d47a",
   "metadata": {},
   "source": [
    "#### 3.3 Suicide Rate by Age Group"
   ]
  },
  {
   "cell_type": "code",
   "execution_count": null,
   "id": "ee359226-14df-4b0a-9cf9-91d70045d528",
   "metadata": {},
   "outputs": [],
   "source": [
    "# Group by age\n",
    "age_data = suicide_df.groupby('age')[['suicides_no', 'population']].sum().reset_index()\n",
    "age_data['suicide_rate'] = (age_data['suicides_no'] / age_data['population']) * 100000\n",
    "\n",
    "# Sort for better visual\n",
    "age_data = age_data.sort_values(by='suicide_rate', ascending=True)\n",
    "\n",
    "# Plot\n",
    "plt.figure(figsize=(10, 5))\n",
    "sns.barplot(data=age_data, x='age', y='suicide_rate', hue= 'age', palette='magma')\n",
    "plt.title('Average Suicide Rate by Age Group')\n",
    "plt.xlabel('Age Group')\n",
    "plt.ylabel('Suicide Rate')\n",
    "plt.tight_layout()\n",
    "plt.show()\n"
   ]
  },
  {
   "cell_type": "markdown",
   "id": "f397bc0e-edac-4ae2-a5a6-8f6ed8bd8ef1",
   "metadata": {},
   "source": [
    "The 55–74 and 75+ age groups had the highest suicide rates on average. This aligns with global studies linking suicide in older populations to loneliness, illness, and reduced social support systems."
   ]
  },
  {
   "cell_type": "markdown",
   "id": "b60e6b7b-b04b-4f8d-8dd1-4dd936f21105",
   "metadata": {},
   "source": [
    "#### Top 10 Countries with Highest Average Suicide Rates"
   ]
  },
  {
   "cell_type": "code",
   "execution_count": null,
   "id": "a364911e-b407-4876-8673-bc343115c3f3",
   "metadata": {},
   "outputs": [],
   "source": [
    "# Group by country\n",
    "country_data = suicide_df.groupby('country')[['suicides_no', 'population']].sum().reset_index()\n",
    "country_data['suicide_rate'] = (country_data['suicides_no'] / country_data['population']) * 100000\n",
    "\n",
    "# Sort top 10\n",
    "top_countries = country_data.sort_values(by='suicide_rate', ascending=False).head(10)\n",
    "\n",
    "# Plot\n",
    "plt.figure(figsize=(12, 6))\n",
    "sns.barplot(data=top_countries, y='country', x='suicide_rate', hue= 'country', palette='Reds_r')\n",
    "plt.title('Top 10 Countries by Suicide Rate')\n",
    "plt.xlabel('Suicide Rate per 100,000')\n",
    "plt.ylabel('Country')\n",
    "plt.tight_layout()\n",
    "plt.show()\n"
   ]
  },
  {
   "cell_type": "markdown",
   "id": "62172ab4-f769-4b13-82c9-85dda3b03efd",
   "metadata": {},
   "source": [
    "Countries like Lithuania, Russia, and South Korea consistently appeared at the top. Cultural, societal, and economic pressures may contribute to higher rates. Some may also have better suicide reporting systems, making stats appear higher."
   ]
  },
  {
   "cell_type": "markdown",
   "id": "02a9df84-f0b1-405a-a97d-a7cabf396d49",
   "metadata": {},
   "source": [
    "#### GDP vs Suicide Rate (Correlation)"
   ]
  },
  {
   "cell_type": "code",
   "execution_count": null,
   "id": "e0782e47-84d8-4cb7-8a62-efa0ec99e5dc",
   "metadata": {},
   "outputs": [],
   "source": [
    "# Scatter plot\n",
    "plt.figure(figsize=(10, 6))\n",
    "sns.scatterplot(data=suicide_df, x='gdp_per_capita_$', y='suicide_rate', hue='sex', alpha=0.6)\n",
    "plt.title('GDP per Capita vs Suicide Rate')\n",
    "plt.xlabel('GDP per Capita ($)')\n",
    "plt.ylabel('Suicide Rate per 100k')\n",
    "plt.tight_layout()\n",
    "plt.show()\n"
   ]
  },
  {
   "cell_type": "markdown",
   "id": "45bec66e-a5d0-4349-92f3-11571b434140",
   "metadata": {},
   "source": [
    "There is no strong direct correlation between GDP per capita and suicide rate. High-income countries are not immune. This suggests that mental health is not solely dependent on wealth, access to healthcare, cultural stigma, and social support are more influential.\n",
    "\n"
   ]
  },
  {
   "cell_type": "code",
   "execution_count": null,
   "id": "a5447e9d-e7b3-4b56-bebf-75f72aa7ee8e",
   "metadata": {},
   "outputs": [],
   "source": []
  },
  {
   "cell_type": "code",
   "execution_count": null,
   "id": "4f5fece9-5828-4356-a4af-0c1441665ee1",
   "metadata": {},
   "outputs": [],
   "source": []
  }
 ],
 "metadata": {
  "kernelspec": {
   "display_name": "Python 3 (ipykernel)",
   "language": "python",
   "name": "python3"
  },
  "language_info": {
   "codemirror_mode": {
    "name": "ipython",
    "version": 3
   },
   "file_extension": ".py",
   "mimetype": "text/x-python",
   "name": "python",
   "nbconvert_exporter": "python",
   "pygments_lexer": "ipython3",
   "version": "3.13.3"
  }
 },
 "nbformat": 4,
 "nbformat_minor": 5
}
